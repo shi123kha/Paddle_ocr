{
  "nbformat": 4,
  "nbformat_minor": 0,
  "metadata": {
    "colab": {
      "name": "paddle_ocr.ipynb",
      "provenance": []
    },
    "kernelspec": {
      "name": "python3",
      "display_name": "Python 3"
    },
    "language_info": {
      "name": "python"
    }
  },
  "cells": [
    {
      "cell_type": "code",
      "execution_count": null,
      "metadata": {
        "colab": {
          "base_uri": "https://localhost:8080/"
        },
        "id": "u6KxsDINxp07",
        "outputId": "fc760c3b-4ccc-46f9-e82e-9e81abefe8a1"
      },
      "outputs": [
        {
          "output_type": "stream",
          "name": "stdout",
          "text": [
            "Collecting paddleocr\n",
            "  Downloading paddleocr-2.4-py3-none-any.whl (288 kB)\n",
            "\u001b[K     |████████████████████████████████| 288 kB 6.6 MB/s \n",
            "\u001b[?25hRequirement already satisfied: tqdm in /usr/local/lib/python3.7/dist-packages (from paddleocr) (4.62.3)\n",
            "Requirement already satisfied: cython in /usr/local/lib/python3.7/dist-packages (from paddleocr) (0.29.26)\n",
            "Collecting paddlenlp>=2.2.1\n",
            "  Downloading paddlenlp-2.2.3-py3-none-any.whl (1.2 MB)\n",
            "\u001b[K     |████████████████████████████████| 1.2 MB 72.0 MB/s \n",
            "\u001b[?25hRequirement already satisfied: lmdb in /usr/local/lib/python3.7/dist-packages (from paddleocr) (0.99)\n",
            "Collecting opencv-contrib-python==4.4.0.46\n",
            "  Downloading opencv_contrib_python-4.4.0.46-cp37-cp37m-manylinux2014_x86_64.whl (55.7 MB)\n",
            "\u001b[K     |████████████████████████████████| 55.7 MB 78 kB/s \n",
            "\u001b[?25hRequirement already satisfied: lxml in /usr/local/lib/python3.7/dist-packages (from paddleocr) (4.2.6)\n",
            "Requirement already satisfied: scikit-image in /usr/local/lib/python3.7/dist-packages (from paddleocr) (0.18.3)\n",
            "Requirement already satisfied: openpyxl in /usr/local/lib/python3.7/dist-packages (from paddleocr) (2.5.9)\n",
            "Collecting visualdl\n",
            "  Downloading visualdl-2.2.3-py3-none-any.whl (2.7 MB)\n",
            "\u001b[K     |████████████████████████████████| 2.7 MB 51.3 MB/s \n",
            "\u001b[?25hCollecting pyclipper\n",
            "  Downloading pyclipper-1.3.0.post2-cp37-cp37m-manylinux_2_5_x86_64.manylinux1_x86_64.whl (603 kB)\n",
            "\u001b[K     |████████████████████████████████| 603 kB 75.1 MB/s \n",
            "\u001b[?25hCollecting python-Levenshtein\n",
            "  Downloading python-Levenshtein-0.12.2.tar.gz (50 kB)\n",
            "\u001b[K     |████████████████████████████████| 50 kB 8.9 MB/s \n",
            "\u001b[?25hCollecting imgaug==0.4.0\n",
            "  Downloading imgaug-0.4.0-py2.py3-none-any.whl (948 kB)\n",
            "\u001b[K     |████████████████████████████████| 948 kB 56.3 MB/s \n",
            "\u001b[?25hRequirement already satisfied: shapely in /usr/local/lib/python3.7/dist-packages (from paddleocr) (1.8.0)\n",
            "Collecting premailer\n",
            "  Downloading premailer-3.10.0-py2.py3-none-any.whl (19 kB)\n",
            "Requirement already satisfied: numpy in /usr/local/lib/python3.7/dist-packages (from paddleocr) (1.19.5)\n",
            "Requirement already satisfied: scipy in /usr/local/lib/python3.7/dist-packages (from imgaug==0.4.0->paddleocr) (1.4.1)\n",
            "Requirement already satisfied: Pillow in /usr/local/lib/python3.7/dist-packages (from imgaug==0.4.0->paddleocr) (7.1.2)\n",
            "Requirement already satisfied: matplotlib in /usr/local/lib/python3.7/dist-packages (from imgaug==0.4.0->paddleocr) (3.2.2)\n",
            "Requirement already satisfied: opencv-python in /usr/local/lib/python3.7/dist-packages (from imgaug==0.4.0->paddleocr) (4.1.2.30)\n",
            "Requirement already satisfied: imageio in /usr/local/lib/python3.7/dist-packages (from imgaug==0.4.0->paddleocr) (2.4.1)\n",
            "Requirement already satisfied: six in /usr/local/lib/python3.7/dist-packages (from imgaug==0.4.0->paddleocr) (1.15.0)\n",
            "Collecting seqeval\n",
            "  Downloading seqeval-1.2.2.tar.gz (43 kB)\n",
            "\u001b[K     |████████████████████████████████| 43 kB 2.8 MB/s \n",
            "\u001b[?25hRequirement already satisfied: h5py in /usr/local/lib/python3.7/dist-packages (from paddlenlp>=2.2.1->paddleocr) (3.1.0)\n",
            "Collecting colorama\n",
            "  Downloading colorama-0.4.4-py2.py3-none-any.whl (16 kB)\n",
            "Requirement already satisfied: multiprocess in /usr/local/lib/python3.7/dist-packages (from paddlenlp>=2.2.1->paddleocr) (0.70.12.2)\n",
            "Collecting colorlog\n",
            "  Downloading colorlog-6.6.0-py2.py3-none-any.whl (11 kB)\n",
            "Requirement already satisfied: jieba in /usr/local/lib/python3.7/dist-packages (from paddlenlp>=2.2.1->paddleocr) (0.42.1)\n",
            "Requirement already satisfied: tifffile>=2019.7.26 in /usr/local/lib/python3.7/dist-packages (from scikit-image->paddleocr) (2021.11.2)\n",
            "Requirement already satisfied: PyWavelets>=1.1.1 in /usr/local/lib/python3.7/dist-packages (from scikit-image->paddleocr) (1.2.0)\n",
            "Requirement already satisfied: networkx>=2.0 in /usr/local/lib/python3.7/dist-packages (from scikit-image->paddleocr) (2.6.3)\n",
            "Requirement already satisfied: kiwisolver>=1.0.1 in /usr/local/lib/python3.7/dist-packages (from matplotlib->imgaug==0.4.0->paddleocr) (1.3.2)\n",
            "Requirement already satisfied: pyparsing!=2.0.4,!=2.1.2,!=2.1.6,>=2.0.1 in /usr/local/lib/python3.7/dist-packages (from matplotlib->imgaug==0.4.0->paddleocr) (3.0.6)\n",
            "Requirement already satisfied: cycler>=0.10 in /usr/local/lib/python3.7/dist-packages (from matplotlib->imgaug==0.4.0->paddleocr) (0.11.0)\n",
            "Requirement already satisfied: python-dateutil>=2.1 in /usr/local/lib/python3.7/dist-packages (from matplotlib->imgaug==0.4.0->paddleocr) (2.8.2)\n",
            "Requirement already satisfied: cached-property in /usr/local/lib/python3.7/dist-packages (from h5py->paddlenlp>=2.2.1->paddleocr) (1.5.2)\n",
            "Requirement already satisfied: dill>=0.3.4 in /usr/local/lib/python3.7/dist-packages (from multiprocess->paddlenlp>=2.2.1->paddleocr) (0.3.4)\n",
            "Requirement already satisfied: jdcal in /usr/local/lib/python3.7/dist-packages (from openpyxl->paddleocr) (1.4.1)\n",
            "Requirement already satisfied: et-xmlfile in /usr/local/lib/python3.7/dist-packages (from openpyxl->paddleocr) (1.1.0)\n",
            "Collecting cssutils\n",
            "  Downloading cssutils-2.3.0-py3-none-any.whl (404 kB)\n",
            "\u001b[K     |████████████████████████████████| 404 kB 78.6 MB/s \n",
            "\u001b[?25hRequirement already satisfied: cachetools in /usr/local/lib/python3.7/dist-packages (from premailer->paddleocr) (4.2.4)\n",
            "Requirement already satisfied: requests in /usr/local/lib/python3.7/dist-packages (from premailer->paddleocr) (2.23.0)\n",
            "Collecting cssselect\n",
            "  Downloading cssselect-1.1.0-py2.py3-none-any.whl (16 kB)\n",
            "Requirement already satisfied: importlib-metadata in /usr/local/lib/python3.7/dist-packages (from cssutils->premailer->paddleocr) (4.10.0)\n",
            "Requirement already satisfied: zipp>=0.5 in /usr/local/lib/python3.7/dist-packages (from importlib-metadata->cssutils->premailer->paddleocr) (3.7.0)\n",
            "Requirement already satisfied: typing-extensions>=3.6.4 in /usr/local/lib/python3.7/dist-packages (from importlib-metadata->cssutils->premailer->paddleocr) (3.10.0.2)\n",
            "Requirement already satisfied: setuptools in /usr/local/lib/python3.7/dist-packages (from python-Levenshtein->paddleocr) (57.4.0)\n",
            "Requirement already satisfied: certifi>=2017.4.17 in /usr/local/lib/python3.7/dist-packages (from requests->premailer->paddleocr) (2021.10.8)\n",
            "Requirement already satisfied: urllib3!=1.25.0,!=1.25.1,<1.26,>=1.21.1 in /usr/local/lib/python3.7/dist-packages (from requests->premailer->paddleocr) (1.24.3)\n",
            "Requirement already satisfied: chardet<4,>=3.0.2 in /usr/local/lib/python3.7/dist-packages (from requests->premailer->paddleocr) (3.0.4)\n",
            "Requirement already satisfied: idna<3,>=2.5 in /usr/local/lib/python3.7/dist-packages (from requests->premailer->paddleocr) (2.10)\n",
            "Requirement already satisfied: scikit-learn>=0.21.3 in /usr/local/lib/python3.7/dist-packages (from seqeval->paddlenlp>=2.2.1->paddleocr) (1.0.2)\n",
            "Requirement already satisfied: threadpoolctl>=2.0.0 in /usr/local/lib/python3.7/dist-packages (from scikit-learn>=0.21.3->seqeval->paddlenlp>=2.2.1->paddleocr) (3.0.0)\n",
            "Requirement already satisfied: joblib>=0.11 in /usr/local/lib/python3.7/dist-packages (from scikit-learn>=0.21.3->seqeval->paddlenlp>=2.2.1->paddleocr) (1.1.0)\n",
            "Requirement already satisfied: flask>=1.1.1 in /usr/local/lib/python3.7/dist-packages (from visualdl->paddleocr) (1.1.4)\n",
            "Collecting pre-commit\n",
            "  Downloading pre_commit-2.17.0-py2.py3-none-any.whl (195 kB)\n",
            "\u001b[K     |████████████████████████████████| 195 kB 82.4 MB/s \n",
            "\u001b[?25hRequirement already satisfied: pandas in /usr/local/lib/python3.7/dist-packages (from visualdl->paddleocr) (1.1.5)\n",
            "Collecting Flask-Babel>=1.0.0\n",
            "  Downloading Flask_Babel-2.0.0-py3-none-any.whl (9.3 kB)\n",
            "Requirement already satisfied: protobuf>=3.11.0 in /usr/local/lib/python3.7/dist-packages (from visualdl->paddleocr) (3.17.3)\n",
            "Collecting bce-python-sdk\n",
            "  Downloading bce-python-sdk-0.8.64.tar.gz (127 kB)\n",
            "\u001b[K     |████████████████████████████████| 127 kB 88.3 MB/s \n",
            "\u001b[?25hCollecting shellcheck-py\n",
            "  Downloading shellcheck_py-0.8.0.3-py2.py3-none-manylinux_2_5_x86_64.manylinux1_x86_64.manylinux_2_17_x86_64.manylinux2014_x86_64.whl (2.1 MB)\n",
            "\u001b[K     |████████████████████████████████| 2.1 MB 56.8 MB/s \n",
            "\u001b[?25hCollecting flake8>=3.7.9\n",
            "  Downloading flake8-4.0.1-py2.py3-none-any.whl (64 kB)\n",
            "\u001b[K     |████████████████████████████████| 64 kB 3.4 MB/s \n",
            "\u001b[?25hCollecting importlib-metadata\n",
            "  Downloading importlib_metadata-4.2.0-py3-none-any.whl (16 kB)\n",
            "Collecting pycodestyle<2.9.0,>=2.8.0\n",
            "  Downloading pycodestyle-2.8.0-py2.py3-none-any.whl (42 kB)\n",
            "\u001b[K     |████████████████████████████████| 42 kB 1.2 MB/s \n",
            "\u001b[?25hCollecting pyflakes<2.5.0,>=2.4.0\n",
            "  Downloading pyflakes-2.4.0-py2.py3-none-any.whl (69 kB)\n",
            "\u001b[K     |████████████████████████████████| 69 kB 10.1 MB/s \n",
            "\u001b[?25hCollecting mccabe<0.7.0,>=0.6.0\n",
            "  Downloading mccabe-0.6.1-py2.py3-none-any.whl (8.6 kB)\n",
            "Requirement already satisfied: Jinja2<3.0,>=2.10.1 in /usr/local/lib/python3.7/dist-packages (from flask>=1.1.1->visualdl->paddleocr) (2.11.3)\n",
            "Requirement already satisfied: itsdangerous<2.0,>=0.24 in /usr/local/lib/python3.7/dist-packages (from flask>=1.1.1->visualdl->paddleocr) (1.1.0)\n",
            "Requirement already satisfied: Werkzeug<2.0,>=0.15 in /usr/local/lib/python3.7/dist-packages (from flask>=1.1.1->visualdl->paddleocr) (1.0.1)\n",
            "Requirement already satisfied: click<8.0,>=5.1 in /usr/local/lib/python3.7/dist-packages (from flask>=1.1.1->visualdl->paddleocr) (7.1.2)\n",
            "Requirement already satisfied: pytz in /usr/local/lib/python3.7/dist-packages (from Flask-Babel>=1.0.0->visualdl->paddleocr) (2018.9)\n",
            "Requirement already satisfied: Babel>=2.3 in /usr/local/lib/python3.7/dist-packages (from Flask-Babel>=1.0.0->visualdl->paddleocr) (2.9.1)\n",
            "Requirement already satisfied: MarkupSafe>=0.23 in /usr/local/lib/python3.7/dist-packages (from Jinja2<3.0,>=2.10.1->flask>=1.1.1->visualdl->paddleocr) (2.0.1)\n",
            "Collecting pycryptodome>=3.8.0\n",
            "  Downloading pycryptodome-3.12.0-cp35-abi3-manylinux2010_x86_64.whl (2.0 MB)\n",
            "\u001b[K     |████████████████████████████████| 2.0 MB 39.6 MB/s \n",
            "\u001b[?25hRequirement already satisfied: future>=0.6.0 in /usr/local/lib/python3.7/dist-packages (from bce-python-sdk->visualdl->paddleocr) (0.16.0)\n",
            "Requirement already satisfied: toml in /usr/local/lib/python3.7/dist-packages (from pre-commit->visualdl->paddleocr) (0.10.2)\n",
            "Collecting cfgv>=2.0.0\n",
            "  Downloading cfgv-3.3.1-py2.py3-none-any.whl (7.3 kB)\n",
            "Collecting nodeenv>=0.11.1\n",
            "  Downloading nodeenv-1.6.0-py2.py3-none-any.whl (21 kB)\n",
            "Collecting identify>=1.0.0\n",
            "  Downloading identify-2.4.4-py2.py3-none-any.whl (98 kB)\n",
            "\u001b[K     |████████████████████████████████| 98 kB 9.9 MB/s \n",
            "\u001b[?25hCollecting virtualenv>=20.0.8\n",
            "  Downloading virtualenv-20.13.0-py2.py3-none-any.whl (6.5 MB)\n",
            "\u001b[K     |████████████████████████████████| 6.5 MB 41.1 MB/s \n",
            "\u001b[?25hCollecting pyyaml>=5.1\n",
            "  Downloading PyYAML-6.0-cp37-cp37m-manylinux_2_5_x86_64.manylinux1_x86_64.manylinux_2_12_x86_64.manylinux2010_x86_64.whl (596 kB)\n",
            "\u001b[K     |████████████████████████████████| 596 kB 64.1 MB/s \n",
            "\u001b[?25hRequirement already satisfied: filelock<4,>=3.2 in /usr/local/lib/python3.7/dist-packages (from virtualenv>=20.0.8->pre-commit->visualdl->paddleocr) (3.4.2)\n",
            "Collecting platformdirs<3,>=2\n",
            "  Downloading platformdirs-2.4.1-py3-none-any.whl (14 kB)\n",
            "Collecting distlib<1,>=0.3.1\n",
            "  Downloading distlib-0.3.4-py2.py3-none-any.whl (461 kB)\n",
            "\u001b[K     |████████████████████████████████| 461 kB 66.5 MB/s \n",
            "\u001b[?25hBuilding wheels for collected packages: python-Levenshtein, seqeval, bce-python-sdk\n",
            "  Building wheel for python-Levenshtein (setup.py) ... \u001b[?25l\u001b[?25hdone\n",
            "  Created wheel for python-Levenshtein: filename=python_Levenshtein-0.12.2-cp37-cp37m-linux_x86_64.whl size=149870 sha256=e388c608d6509060a564ff9be06b5441d54e205a7de56544f663ef3e5dc76e2d\n",
            "  Stored in directory: /root/.cache/pip/wheels/05/5f/ca/7c4367734892581bb5ff896f15027a932c551080b2abd3e00d\n",
            "  Building wheel for seqeval (setup.py) ... \u001b[?25l\u001b[?25hdone\n",
            "  Created wheel for seqeval: filename=seqeval-1.2.2-py3-none-any.whl size=16180 sha256=7838cb4e8716ebc5634bb8fd622080e1eab139dd4b248fdc871e16e5f7578869\n",
            "  Stored in directory: /root/.cache/pip/wheels/05/96/ee/7cac4e74f3b19e3158dce26a20a1c86b3533c43ec72a549fd7\n",
            "  Building wheel for bce-python-sdk (setup.py) ... \u001b[?25l\u001b[?25hdone\n",
            "  Created wheel for bce-python-sdk: filename=bce_python_sdk-0.8.64-py3-none-any.whl size=202973 sha256=6992a3868efa643e6dc7521178dc75176425ae981339d6f1712270bf7a3e9b1b\n",
            "  Stored in directory: /root/.cache/pip/wheels/fd/ee/a5/4ad3bdc0e60b48e892e8bd6f661a3201d7e76dccfa9e968b34\n",
            "Successfully built python-Levenshtein seqeval bce-python-sdk\n",
            "Installing collected packages: platformdirs, importlib-metadata, distlib, virtualenv, pyyaml, pyflakes, pycryptodome, pycodestyle, nodeenv, mccabe, identify, cfgv, shellcheck-py, seqeval, pre-commit, Flask-Babel, flake8, cssutils, cssselect, colorlog, colorama, bce-python-sdk, visualdl, python-Levenshtein, pyclipper, premailer, paddlenlp, opencv-contrib-python, imgaug, paddleocr\n",
            "  Attempting uninstall: importlib-metadata\n",
            "    Found existing installation: importlib-metadata 4.10.0\n",
            "    Uninstalling importlib-metadata-4.10.0:\n",
            "      Successfully uninstalled importlib-metadata-4.10.0\n",
            "  Attempting uninstall: pyyaml\n",
            "    Found existing installation: PyYAML 3.13\n",
            "    Uninstalling PyYAML-3.13:\n",
            "      Successfully uninstalled PyYAML-3.13\n",
            "  Attempting uninstall: opencv-contrib-python\n",
            "    Found existing installation: opencv-contrib-python 4.1.2.30\n",
            "    Uninstalling opencv-contrib-python-4.1.2.30:\n",
            "      Successfully uninstalled opencv-contrib-python-4.1.2.30\n",
            "  Attempting uninstall: imgaug\n",
            "    Found existing installation: imgaug 0.2.9\n",
            "    Uninstalling imgaug-0.2.9:\n",
            "      Successfully uninstalled imgaug-0.2.9\n",
            "\u001b[31mERROR: pip's dependency resolver does not currently take into account all the packages that are installed. This behaviour is the source of the following dependency conflicts.\n",
            "markdown 3.3.6 requires importlib-metadata>=4.4; python_version < \"3.10\", but you have importlib-metadata 4.2.0 which is incompatible.\n",
            "albumentations 0.1.12 requires imgaug<0.2.7,>=0.2.5, but you have imgaug 0.4.0 which is incompatible.\u001b[0m\n",
            "Successfully installed Flask-Babel-2.0.0 bce-python-sdk-0.8.64 cfgv-3.3.1 colorama-0.4.4 colorlog-6.6.0 cssselect-1.1.0 cssutils-2.3.0 distlib-0.3.4 flake8-4.0.1 identify-2.4.4 imgaug-0.4.0 importlib-metadata-4.2.0 mccabe-0.6.1 nodeenv-1.6.0 opencv-contrib-python-4.4.0.46 paddlenlp-2.2.3 paddleocr-2.4 platformdirs-2.4.1 pre-commit-2.17.0 premailer-3.10.0 pyclipper-1.3.0.post2 pycodestyle-2.8.0 pycryptodome-3.12.0 pyflakes-2.4.0 python-Levenshtein-0.12.2 pyyaml-6.0 seqeval-1.2.2 shellcheck-py-0.8.0.3 virtualenv-20.13.0 visualdl-2.2.3\n"
          ]
        }
      ],
      "source": [
        "!pip install paddleocr"
      ]
    },
    {
      "cell_type": "code",
      "source": [
        "!git clone https://github.com/PaddlePaddle/PaddleOCR.git"
      ],
      "metadata": {
        "colab": {
          "base_uri": "https://localhost:8080/"
        },
        "id": "xT3OOgTAx-Vj",
        "outputId": "d468cfde-eeb5-4910-bc77-09491eebd96e"
      },
      "execution_count": null,
      "outputs": [
        {
          "output_type": "stream",
          "name": "stdout",
          "text": [
            "fatal: destination path 'PaddleOCR' already exists and is not an empty directory.\n"
          ]
        }
      ]
    },
    {
      "cell_type": "code",
      "source": [
        "!pip3 install paddlepaddle -i https://mirror.baidu.com/pypi/simple/"
      ],
      "metadata": {
        "colab": {
          "base_uri": "https://localhost:8080/"
        },
        "id": "g9sKe2MtzTq3",
        "outputId": "6c292c51-4097-47f6-bde8-455c7fd59f73"
      },
      "execution_count": null,
      "outputs": [
        {
          "output_type": "stream",
          "name": "stdout",
          "text": [
            "Looking in indexes: https://mirror.baidu.com/pypi/simple/\n",
            "Requirement already satisfied: paddlepaddle in /usr/local/lib/python3.7/dist-packages (2.2.2)\n",
            "Requirement already satisfied: Pillow in /usr/local/lib/python3.7/dist-packages (from paddlepaddle) (7.1.2)\n",
            "Requirement already satisfied: protobuf>=3.1.0 in /usr/local/lib/python3.7/dist-packages (from paddlepaddle) (3.17.3)\n",
            "Requirement already satisfied: astor in /usr/local/lib/python3.7/dist-packages (from paddlepaddle) (0.8.1)\n",
            "Requirement already satisfied: six in /usr/local/lib/python3.7/dist-packages (from paddlepaddle) (1.15.0)\n",
            "Requirement already satisfied: decorator in /usr/local/lib/python3.7/dist-packages (from paddlepaddle) (4.4.2)\n",
            "Requirement already satisfied: requests>=2.20.0 in /usr/local/lib/python3.7/dist-packages (from paddlepaddle) (2.23.0)\n",
            "Requirement already satisfied: numpy>=1.13 in /usr/local/lib/python3.7/dist-packages (from paddlepaddle) (1.19.5)\n",
            "Requirement already satisfied: chardet<4,>=3.0.2 in /usr/local/lib/python3.7/dist-packages (from requests>=2.20.0->paddlepaddle) (3.0.4)\n",
            "Requirement already satisfied: urllib3!=1.25.0,!=1.25.1,<1.26,>=1.21.1 in /usr/local/lib/python3.7/dist-packages (from requests>=2.20.0->paddlepaddle) (1.24.3)\n",
            "Requirement already satisfied: idna<3,>=2.5 in /usr/local/lib/python3.7/dist-packages (from requests>=2.20.0->paddlepaddle) (2.10)\n",
            "Requirement already satisfied: certifi>=2017.4.17 in /usr/local/lib/python3.7/dist-packages (from requests>=2.20.0->paddlepaddle) (2021.10.8)\n"
          ]
        }
      ]
    },
    {
      "cell_type": "code",
      "source": [
        "import os\n",
        "path = '/content/drive/MyDrive/LayoutML_Bert/SBI_crop'\n",
        "files = os.listdir(path)\n",
        "\n",
        "\n",
        "for index, file in enumerate(files):\n",
        "    os.rename(os.path.join(path, file), os.path.join(path, ''.join([str(index), '.jpg'])))"
      ],
      "metadata": {
        "id": "NdsieVfwxsOE"
      },
      "execution_count": null,
      "outputs": []
    },
    {
      "cell_type": "code",
      "source": [
        "from paddleocr import PaddleOCR,draw_ocr\n",
        "import csv\n",
        "# Paddleocr supports Chinese, English, French, German, Korean and Japanese.\n",
        "# You can set the parameter `lang` as `ch`, `en`, `french`, `german`, `korean`, `japan`\n",
        "# to switch the language model in order.\n",
        "import os\n",
        "def load_images_from_folder(folder):\n",
        "    images = []\n",
        "    for filename in os.listdir(folder):\n",
        "        img = cv2.imread(os.path.join(folder,filename))\n",
        "        if img is not None:\n",
        "            images.append(img)\n",
        "    return images\n",
        "folder_path='/content/drive/MyDrive/LayoutML_Bert/SBI_crop'\n",
        "\n",
        "ocr = PaddleOCR(use_angle_cls=True, lang='en') # need to run only once to download and load model into memory\n",
        "for filename in os.listdir(folder_path):\n",
        "    csv_path=os.path.join(folder_path,filename) \n",
        "    csv_path=os.path.splitext(csv_path)[0]+'.txt'\n",
        "    print(\"csv\",csv_path)\n",
        "    img_path = cv2.imread(os.path.join(folder_path,filename))\n",
        "    #img_path = '/content/drive/MyDrive/LayoutML_Bert/SBI_crop/Screenshot 2022-01-21 at 11.35.11 PM.png'\n",
        "    result = ocr.ocr(img_path, cls=True)\n",
        "    with open(csv_path, 'w', newline='') as file:\n",
        "        writer = csv.writer(file)\n",
        "        for row in result:\n",
        "            csv_row= []\n",
        "            for row0 in row[0]:\n",
        "                csv_row.append(row0[0])\n",
        "                csv_row.append(row0[1])\n",
        "            csv_row.append(row[1][0])\n",
        "            writer.writerow(csv_row)\n",
        "            \n",
        "#im_show = draw_ocr(image, boxes, txts, scores, font_path='/content/PaddleOCR/doc/fonts/simfang.ttf')\n",
        "#im_show = Image.fromarray(im_show)\n",
        "#im_show.save('/content/drive/MyDrive/LayoutML_Bert/Paddle_ocr/result.jpg')"
      ],
      "metadata": {
        "colab": {
          "base_uri": "https://localhost:8080/"
        },
        "id": "9WpGCXCHyysw",
        "outputId": "c3ae248f-86bf-4729-e358-79dfe49fed55"
      },
      "execution_count": null,
      "outputs": [
        {
          "output_type": "stream",
          "name": "stdout",
          "text": [
            "Namespace(benchmark=False, cls_batch_num=6, cls_image_shape='3, 48, 192', cls_model_dir='/root/.paddleocr/2.4/ocr/cls/ch_ppocr_mobile_v2.0_cls_infer', cls_thresh=0.9, cpu_threads=10, crop_res_save_dir='./output', det=True, det_algorithm='DB', det_db_box_thresh=0.6, det_db_score_mode='fast', det_db_thresh=0.3, det_db_unclip_ratio=1.5, det_east_cover_thresh=0.1, det_east_nms_thresh=0.2, det_east_score_thresh=0.8, det_limit_side_len=960, det_limit_type='max', det_model_dir='/root/.paddleocr/2.4/ocr/det/en/en_ppocr_mobile_v2.0_det_infer', det_pse_box_thresh=0.85, det_pse_box_type='box', det_pse_min_area=16, det_pse_scale=1, det_pse_thresh=0, det_sast_nms_thresh=0.2, det_sast_polygon=False, det_sast_score_thresh=0.5, draw_img_save_dir='./inference_results', drop_score=0.5, e2e_algorithm='PGNet', e2e_char_dict_path='./ppocr/utils/ic15_dict.txt', e2e_limit_side_len=768, e2e_limit_type='max', e2e_model_dir=None, e2e_pgnet_mode='fast', e2e_pgnet_score_thresh=0.5, e2e_pgnet_valid_set='totaltext', enable_mkldnn=False, gpu_mem=500, help='==SUPPRESS==', image_dir=None, ir_optim=True, label_list=['0', '180'], label_map_path='./vqa/labels/labels_ser.txt', lang='en', layout_path_model='lp://PubLayNet/ppyolov2_r50vd_dcn_365e_publaynet/config', max_batch_size=10, max_seq_length=512, max_text_length=25, min_subgraph_size=15, mode='structure', model_name_or_path=None, ocr_version='PP-OCRv2', output='./output', precision='fp32', process_id=0, rec=True, rec_algorithm='CRNN', rec_batch_num=6, rec_char_dict_path='/usr/local/lib/python3.7/dist-packages/paddleocr/ppocr/utils/en_dict.txt', rec_image_shape='3, 32, 320', rec_model_dir='/root/.paddleocr/2.4/ocr/rec/en/en_number_mobile_v2.0_rec_infer', save_crop_res=False, save_log_path='./log_output/', show_log=True, structure_version='STRUCTURE', table_char_dict_path=None, table_char_type='en', table_max_len=488, table_model_dir=None, total_process_num=1, type='ocr', use_angle_cls=True, use_dilation=False, use_gpu=False, use_mp=False, use_onnx=False, use_pdserving=False, use_space_char=True, use_tensorrt=False, vis_font_path='./doc/fonts/simfang.ttf', warmup=False)\n",
            "csv /content/drive/MyDrive/LayoutML_Bert/SBI_crop/0.txt\n",
            "[2022/01/22 08:01:31] root DEBUG: dt_boxes num : 30, elapse : 0.6257724761962891\n",
            "[2022/01/22 08:01:32] root DEBUG: cls num  : 30, elapse : 0.9749503135681152\n",
            "[2022/01/22 08:01:34] root DEBUG: rec_res num  : 30, elapse : 1.6418547630310059\n",
            "csv /content/drive/MyDrive/LayoutML_Bert/SBI_crop/1.txt\n",
            "[2022/01/22 08:01:35] root DEBUG: dt_boxes num : 33, elapse : 0.4040803909301758\n",
            "[2022/01/22 08:01:36] root DEBUG: cls num  : 33, elapse : 1.1185235977172852\n",
            "[2022/01/22 08:01:38] root DEBUG: rec_res num  : 33, elapse : 1.6588170528411865\n",
            "csv /content/drive/MyDrive/LayoutML_Bert/SBI_crop/2.txt\n",
            "[2022/01/22 08:01:40] root DEBUG: dt_boxes num : 33, elapse : 0.4074862003326416\n",
            "[2022/01/22 08:01:41] root DEBUG: cls num  : 33, elapse : 1.1183595657348633\n",
            "[2022/01/22 08:01:42] root DEBUG: rec_res num  : 33, elapse : 1.637624740600586\n",
            "csv /content/drive/MyDrive/LayoutML_Bert/SBI_crop/3.txt\n",
            "[2022/01/22 08:01:44] root DEBUG: dt_boxes num : 33, elapse : 0.4063072204589844\n",
            "[2022/01/22 08:01:45] root DEBUG: cls num  : 33, elapse : 1.0862867832183838\n",
            "[2022/01/22 08:01:47] root DEBUG: rec_res num  : 33, elapse : 1.665539264678955\n",
            "csv /content/drive/MyDrive/LayoutML_Bert/SBI_crop/4.txt\n",
            "[2022/01/22 08:01:48] root DEBUG: dt_boxes num : 33, elapse : 0.40421152114868164\n",
            "[2022/01/22 08:01:49] root DEBUG: cls num  : 33, elapse : 1.1273932456970215\n",
            "[2022/01/22 08:01:51] root DEBUG: rec_res num  : 33, elapse : 1.651212215423584\n",
            "csv /content/drive/MyDrive/LayoutML_Bert/SBI_crop/5.txt\n",
            "[2022/01/22 08:01:52] root DEBUG: dt_boxes num : 33, elapse : 0.41671061515808105\n",
            "[2022/01/22 08:01:53] root DEBUG: cls num  : 33, elapse : 1.1145868301391602\n",
            "[2022/01/22 08:01:55] root DEBUG: rec_res num  : 33, elapse : 1.7981362342834473\n",
            "csv /content/drive/MyDrive/LayoutML_Bert/SBI_crop/6.txt\n",
            "[2022/01/22 08:01:56] root DEBUG: dt_boxes num : 33, elapse : 0.42029619216918945\n",
            "[2022/01/22 08:01:57] root DEBUG: cls num  : 33, elapse : 1.1196479797363281\n",
            "[2022/01/22 08:01:59] root DEBUG: rec_res num  : 33, elapse : 1.624624252319336\n",
            "csv /content/drive/MyDrive/LayoutML_Bert/SBI_crop/7.txt\n",
            "[2022/01/22 08:02:00] root DEBUG: dt_boxes num : 31, elapse : 0.4052107334136963\n",
            "[2022/01/22 08:02:01] root DEBUG: cls num  : 31, elapse : 1.0259382724761963\n",
            "[2022/01/22 08:02:03] root DEBUG: rec_res num  : 31, elapse : 1.7554693222045898\n",
            "csv /content/drive/MyDrive/LayoutML_Bert/SBI_crop/8.txt\n",
            "[2022/01/22 08:02:04] root DEBUG: dt_boxes num : 33, elapse : 0.40216970443725586\n",
            "[2022/01/22 08:02:06] root DEBUG: cls num  : 33, elapse : 1.1250059604644775\n",
            "[2022/01/22 08:02:07] root DEBUG: rec_res num  : 33, elapse : 1.7065882682800293\n",
            "csv /content/drive/MyDrive/LayoutML_Bert/SBI_crop/9.txt\n",
            "[2022/01/22 08:02:09] root DEBUG: dt_boxes num : 33, elapse : 0.43342041969299316\n",
            "[2022/01/22 08:02:10] root DEBUG: cls num  : 33, elapse : 1.1358551979064941\n",
            "[2022/01/22 08:02:12] root DEBUG: rec_res num  : 33, elapse : 1.731522798538208\n",
            "csv /content/drive/MyDrive/LayoutML_Bert/SBI_crop/10.txt\n",
            "[2022/01/22 08:02:12] root DEBUG: dt_boxes num : 33, elapse : 0.5001161098480225\n",
            "[2022/01/22 08:02:13] root DEBUG: cls num  : 33, elapse : 1.1187715530395508\n",
            "[2022/01/22 08:02:15] root DEBUG: rec_res num  : 33, elapse : 1.697265625\n",
            "csv /content/drive/MyDrive/LayoutML_Bert/SBI_crop/11.txt\n",
            "[2022/01/22 08:02:17] root DEBUG: dt_boxes num : 33, elapse : 0.4146757125854492\n",
            "[2022/01/22 08:02:18] root DEBUG: cls num  : 33, elapse : 1.1134123802185059\n",
            "[2022/01/22 08:02:20] root DEBUG: rec_res num  : 33, elapse : 1.7376768589019775\n",
            "csv /content/drive/MyDrive/LayoutML_Bert/SBI_crop/12.txt\n",
            "[2022/01/22 08:02:21] root DEBUG: dt_boxes num : 33, elapse : 0.4117145538330078\n",
            "[2022/01/22 08:02:22] root DEBUG: cls num  : 33, elapse : 1.1204657554626465\n",
            "[2022/01/22 08:02:24] root DEBUG: rec_res num  : 33, elapse : 1.6797850131988525\n",
            "csv /content/drive/MyDrive/LayoutML_Bert/SBI_crop/13.txt\n",
            "[2022/01/22 08:02:26] root DEBUG: dt_boxes num : 33, elapse : 0.40276122093200684\n",
            "[2022/01/22 08:02:27] root DEBUG: cls num  : 33, elapse : 1.1122066974639893\n",
            "[2022/01/22 08:02:28] root DEBUG: rec_res num  : 33, elapse : 1.69649338722229\n",
            "csv /content/drive/MyDrive/LayoutML_Bert/SBI_crop/14.txt\n",
            "[2022/01/22 08:02:29] root DEBUG: dt_boxes num : 33, elapse : 0.4046497344970703\n",
            "[2022/01/22 08:02:31] root DEBUG: cls num  : 33, elapse : 1.1550545692443848\n",
            "[2022/01/22 08:02:32] root DEBUG: rec_res num  : 33, elapse : 1.6715435981750488\n",
            "csv /content/drive/MyDrive/LayoutML_Bert/SBI_crop/15.txt\n",
            "[2022/01/22 08:02:34] root DEBUG: dt_boxes num : 33, elapse : 0.4234945774078369\n",
            "[2022/01/22 08:02:35] root DEBUG: cls num  : 33, elapse : 1.1163036823272705\n",
            "[2022/01/22 08:02:37] root DEBUG: rec_res num  : 33, elapse : 1.6785473823547363\n"
          ]
        }
      ]
    },
    {
      "cell_type": "code",
      "source": [
        ""
      ],
      "metadata": {
        "id": "7Btf8fM3p8aL"
      },
      "execution_count": null,
      "outputs": []
    },
    {
      "cell_type": "code",
      "source": [
        "#Suppose your 4 points are - (tlx,tly),(trx,try),(blx,bly) and (brx,bry) where tl is top-left and br is bottom right.\n",
        "\n",
        "import cv2\n",
        "#[[69.0, 54.0], [290.0, 54.0], [290.0, 131.0], [69.0, 131.0]], ('OSBl', 0.8904103)]\n",
        "tlx,tly,trx,try1,blx,bly,brx,bry=1105,8,1328,8,1328,89,1105,89\n",
        "\n",
        "\n",
        "x1=min(tlx,trx,brx,blx);#top-left pt. is the leftmost of the 4 points\n",
        "x2=max(tlx,trx,brx,blx);#bottom-right pt. is the rightmost of the 4 points\n",
        "y1=min(tly,try1,bry,bly);#top-left pt. is the uppermost of the 4 points\n",
        "y2=max(tly,try1,bry,bly);#bottom-right pt. is the lowermost of the 4 points\n",
        "#This is assuming that the point (0,0) occurs at the top left. Now you can use:\n",
        "\n",
        "color = (255, 0, 0)\n",
        "  \n",
        "# Line thickness of 2 px\n",
        "thickness = 2\n",
        "\n",
        "image=cv2.imread('/content/drive/MyDrive/LayoutML_Bert/SBI_crop/0.jpg')\n",
        "# Using cv2.rectangle() method\n",
        "# Draw a rectangle with blue line borders of thickness of 2 px\n",
        "image = cv2.rectangle(image, (x1,y1), (x2,y2), color, thickness)\n",
        "#cv2.rectangle(image, (x1, y1), (x2, y2), (255,0,0), 2)\n",
        "cv2.imwrite(\"/content/drive/MyDrive/LayoutML_Bert/Paddle_ocr/result.jpg\",image)\n",
        "\n",
        "#rectangle(src, Point(x1,y1), Point(x2,y2),Color,Thickness,other_params);"
      ],
      "metadata": {
        "colab": {
          "base_uri": "https://localhost:8080/"
        },
        "id": "xfalwJvIew8c",
        "outputId": "048b45ab-ca11-43aa-d8df-c9fc575ec1a0"
      },
      "execution_count": null,
      "outputs": [
        {
          "output_type": "execute_result",
          "data": {
            "text/plain": [
              "True"
            ]
          },
          "metadata": {},
          "execution_count": 44
        }
      ]
    },
    {
      "cell_type": "code",
      "source": [
        ""
      ],
      "metadata": {
        "id": "wV68vEWqhdcX"
      },
      "execution_count": null,
      "outputs": []
    }
  ]
}